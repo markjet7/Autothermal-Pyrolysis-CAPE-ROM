{
  "cells": [
    {
      "cell_type": "code",
      "source": [
        "# This code cell imports all the packages needed to train and save the model \n",
        "%clear\n",
        "%cls\n",
        "import pandas as pd\n",
        "import numpy as np \n",
        "import pyKriging \n",
        "from pyKriging.krige import kriging \n",
        "import pickle"
      ],
      "outputs": [
        {
          "output_type": "stream",
          "name": "stdout",
          "text": [
            "\f\n",
            "\f\n"
          ]
        }
      ],
      "execution_count": 1,
      "metadata": {
        "collapsed": false,
        "outputHidden": false,
        "inputHidden": false,
        "execution": {
          "iopub.status.busy": "2020-02-28T22:59:56.011Z",
          "iopub.execute_input": "2020-02-28T22:59:56.014Z",
          "shell.execute_reply": "2020-02-28T22:59:56.869Z",
          "iopub.status.idle": "2020-02-28T22:59:56.874Z"
        }
      }
    },
    {
      "cell_type": "code",
      "source": [
        "# Import the dataset\n",
        "Ranzi_input_output = r'C:\\Users\\olumideo\\Desktop\\Research\\New train\\Ranzi_cleaned_data.xlsx'\n",
        "df = pd.read_excel(Ranzi_input_output)\n",
        "\n",
        "# specify the headers\n",
        "headers = df.keys().values.tolist()\n",
        "products = headers[5:]"
      ],
      "outputs": [],
      "execution_count": 3,
      "metadata": {
        "collapsed": false,
        "outputHidden": false,
        "inputHidden": false
      }
    },
    {
      "cell_type": "code",
      "source": [
        "df.head()"
      ],
      "outputs": [
        {
          "output_type": "execute_result",
          "execution_count": 4,
          "data": {
            "text/plain": [
              "       CELL       HCE      LIGC      LIGH      LIGO         CELL1  \\\n",
              "0  0.364475  0.356950  0.092858  0.092858  0.092858  1.000000e-60   \n",
              "1  0.350948  0.312917  0.112045  0.112045  0.112045  1.000000e-60   \n",
              "2  0.207556  0.274558  0.172628  0.172628  0.172628  1.000000e-60   \n",
              "3  0.382659  0.251898  0.121814  0.121814  0.121814  4.139670e-95   \n",
              "4  0.395794  0.353382  0.083608  0.083608  0.083608  1.000000e-60   \n",
              "\n",
              "            HCE1         LIGC1         LIGH1         LIGO1  ...    CH3CHO  \\\n",
              "0   1.000000e-60  1.000000e-60  3.632090e-88  6.809607e-66  ...  0.326029   \n",
              "1   1.000000e-60  1.218410e-55  1.000000e-60  1.000000e-60  ...  0.358351   \n",
              "2   1.000000e-60  3.915756e-37  2.757070e-53  9.459922e-38  ...  0.401085   \n",
              "3  5.274131e-115  1.000000e-60  1.422112e-89  1.800680e-66  ...  0.386510   \n",
              "4  5.152022e-109  3.500175e-65  1.000000e-60  8.680001e-65  ...  0.312751   \n",
              "\n",
              "       ETOH     CH3OH        CO       CO2       CH4      CH2O        H2  \\\n",
              "0  1.214532  3.321677  5.143549  9.956236  2.727816  4.257264  0.000088   \n",
              "1  1.074021  3.463426  5.610630  9.117925  2.711401  3.794495  0.000089   \n",
              "2  0.943523  4.346482  7.382222  8.743006  3.101551  3.424718  0.000105   \n",
              "3  0.856535  3.331984  5.548165  7.652867  2.486089  3.072618  0.000083   \n",
              "4  1.218906  3.164988  4.929319  9.875280  2.648371  4.247347  0.000085   \n",
              "\n",
              "       C2H4       H2O  \n",
              "0  2.694485  2.719399  \n",
              "1  2.774766  3.061466  \n",
              "2  3.408840  4.132641  \n",
              "3  2.637162  3.196708  \n",
              "4  2.578371  2.538817  \n",
              "\n",
              "[5 rows x 41 columns]"
            ],
            "text/html": [
              "<div>\n",
              "<style scoped>\n",
              "    .dataframe tbody tr th:only-of-type {\n",
              "        vertical-align: middle;\n",
              "    }\n",
              "\n",
              "    .dataframe tbody tr th {\n",
              "        vertical-align: top;\n",
              "    }\n",
              "\n",
              "    .dataframe thead th {\n",
              "        text-align: right;\n",
              "    }\n",
              "</style>\n",
              "<table border=\"1\" class=\"dataframe\">\n",
              "  <thead>\n",
              "    <tr style=\"text-align: right;\">\n",
              "      <th></th>\n",
              "      <th>CELL</th>\n",
              "      <th>HCE</th>\n",
              "      <th>LIGC</th>\n",
              "      <th>LIGH</th>\n",
              "      <th>LIGO</th>\n",
              "      <th>CELL1</th>\n",
              "      <th>HCE1</th>\n",
              "      <th>LIGC1</th>\n",
              "      <th>LIGH1</th>\n",
              "      <th>LIGO1</th>\n",
              "      <th>...</th>\n",
              "      <th>CH3CHO</th>\n",
              "      <th>ETOH</th>\n",
              "      <th>CH3OH</th>\n",
              "      <th>CO</th>\n",
              "      <th>CO2</th>\n",
              "      <th>CH4</th>\n",
              "      <th>CH2O</th>\n",
              "      <th>H2</th>\n",
              "      <th>C2H4</th>\n",
              "      <th>H2O</th>\n",
              "    </tr>\n",
              "  </thead>\n",
              "  <tbody>\n",
              "    <tr>\n",
              "      <th>0</th>\n",
              "      <td>0.364475</td>\n",
              "      <td>0.356950</td>\n",
              "      <td>0.092858</td>\n",
              "      <td>0.092858</td>\n",
              "      <td>0.092858</td>\n",
              "      <td>1.000000e-60</td>\n",
              "      <td>1.000000e-60</td>\n",
              "      <td>1.000000e-60</td>\n",
              "      <td>3.632090e-88</td>\n",
              "      <td>6.809607e-66</td>\n",
              "      <td>...</td>\n",
              "      <td>0.326029</td>\n",
              "      <td>1.214532</td>\n",
              "      <td>3.321677</td>\n",
              "      <td>5.143549</td>\n",
              "      <td>9.956236</td>\n",
              "      <td>2.727816</td>\n",
              "      <td>4.257264</td>\n",
              "      <td>0.000088</td>\n",
              "      <td>2.694485</td>\n",
              "      <td>2.719399</td>\n",
              "    </tr>\n",
              "    <tr>\n",
              "      <th>1</th>\n",
              "      <td>0.350948</td>\n",
              "      <td>0.312917</td>\n",
              "      <td>0.112045</td>\n",
              "      <td>0.112045</td>\n",
              "      <td>0.112045</td>\n",
              "      <td>1.000000e-60</td>\n",
              "      <td>1.000000e-60</td>\n",
              "      <td>1.218410e-55</td>\n",
              "      <td>1.000000e-60</td>\n",
              "      <td>1.000000e-60</td>\n",
              "      <td>...</td>\n",
              "      <td>0.358351</td>\n",
              "      <td>1.074021</td>\n",
              "      <td>3.463426</td>\n",
              "      <td>5.610630</td>\n",
              "      <td>9.117925</td>\n",
              "      <td>2.711401</td>\n",
              "      <td>3.794495</td>\n",
              "      <td>0.000089</td>\n",
              "      <td>2.774766</td>\n",
              "      <td>3.061466</td>\n",
              "    </tr>\n",
              "    <tr>\n",
              "      <th>2</th>\n",
              "      <td>0.207556</td>\n",
              "      <td>0.274558</td>\n",
              "      <td>0.172628</td>\n",
              "      <td>0.172628</td>\n",
              "      <td>0.172628</td>\n",
              "      <td>1.000000e-60</td>\n",
              "      <td>1.000000e-60</td>\n",
              "      <td>3.915756e-37</td>\n",
              "      <td>2.757070e-53</td>\n",
              "      <td>9.459922e-38</td>\n",
              "      <td>...</td>\n",
              "      <td>0.401085</td>\n",
              "      <td>0.943523</td>\n",
              "      <td>4.346482</td>\n",
              "      <td>7.382222</td>\n",
              "      <td>8.743006</td>\n",
              "      <td>3.101551</td>\n",
              "      <td>3.424718</td>\n",
              "      <td>0.000105</td>\n",
              "      <td>3.408840</td>\n",
              "      <td>4.132641</td>\n",
              "    </tr>\n",
              "    <tr>\n",
              "      <th>3</th>\n",
              "      <td>0.382659</td>\n",
              "      <td>0.251898</td>\n",
              "      <td>0.121814</td>\n",
              "      <td>0.121814</td>\n",
              "      <td>0.121814</td>\n",
              "      <td>4.139670e-95</td>\n",
              "      <td>5.274131e-115</td>\n",
              "      <td>1.000000e-60</td>\n",
              "      <td>1.422112e-89</td>\n",
              "      <td>1.800680e-66</td>\n",
              "      <td>...</td>\n",
              "      <td>0.386510</td>\n",
              "      <td>0.856535</td>\n",
              "      <td>3.331984</td>\n",
              "      <td>5.548165</td>\n",
              "      <td>7.652867</td>\n",
              "      <td>2.486089</td>\n",
              "      <td>3.072618</td>\n",
              "      <td>0.000083</td>\n",
              "      <td>2.637162</td>\n",
              "      <td>3.196708</td>\n",
              "    </tr>\n",
              "    <tr>\n",
              "      <th>4</th>\n",
              "      <td>0.395794</td>\n",
              "      <td>0.353382</td>\n",
              "      <td>0.083608</td>\n",
              "      <td>0.083608</td>\n",
              "      <td>0.083608</td>\n",
              "      <td>1.000000e-60</td>\n",
              "      <td>5.152022e-109</td>\n",
              "      <td>3.500175e-65</td>\n",
              "      <td>1.000000e-60</td>\n",
              "      <td>8.680001e-65</td>\n",
              "      <td>...</td>\n",
              "      <td>0.312751</td>\n",
              "      <td>1.218906</td>\n",
              "      <td>3.164988</td>\n",
              "      <td>4.929319</td>\n",
              "      <td>9.875280</td>\n",
              "      <td>2.648371</td>\n",
              "      <td>4.247347</td>\n",
              "      <td>0.000085</td>\n",
              "      <td>2.578371</td>\n",
              "      <td>2.538817</td>\n",
              "    </tr>\n",
              "  </tbody>\n",
              "</table>\n",
              "<p>5 rows × 41 columns</p>\n",
              "</div>"
            ]
          },
          "metadata": {}
        }
      ],
      "execution_count": 4,
      "metadata": {
        "collapsed": false,
        "outputHidden": false,
        "inputHidden": false
      }
    },
    {
      "cell_type": "code",
      "source": [
        "np.shape(df)"
      ],
      "outputs": [
        {
          "output_type": "execute_result",
          "execution_count": 5,
          "data": {
            "text/plain": [
              "(400, 41)"
            ]
          },
          "metadata": {}
        }
      ],
      "execution_count": 5,
      "metadata": {
        "collapsed": false,
        "outputHidden": false,
        "inputHidden": false
      }
    },
    {
      "cell_type": "code",
      "source": [
        "# Now,we are going to train a model using the cleaned data.\n",
        "count = 5\n",
        "for name in (products):\n",
        "    x = df.iloc[1:400,0:5] \n",
        "    y = df.iloc[1:400,count]\n",
        "\n",
        "    model_name = 'model'+ name + '.sav'     #name for model to be pickled\n",
        "\n",
        "# train and save the model. \n",
        "    test=kriging(x.values,y.values)\n",
        "    test.train()\n",
        "    pickle.dump(test,open(model_name,'wb'))\n",
        "    print(model_name,\"\", count-4, \" trained\")\n",
        "    count = count + 1       #changes the y value to the next product "
      ],
      "outputs": [
        {
          "output_type": "stream",
          "name": "stdout",
          "text": [
            "modelCELL1.sav  1  trained\n",
            "modelHCE1.sav  2  trained\n",
            "modelLIGC1.sav  3  trained\n",
            "modelLIGH1.sav  4  trained\n",
            "modelLIGO1.sav  5  trained\n",
            "modelCELLA.sav  6  trained\n",
            "modelHCEA1.sav  7  trained\n",
            "modelHCEA2.sav  8  trained\n",
            "modelLIG.sav  9  trained\n",
            "modelLIGCC.sav  10  trained\n",
            "modelLIGOH.sav  11  trained\n",
            "modelGCO2.sav  12  trained\n",
            "modelGCO.sav  13  trained\n",
            "modelGCOH2.sav  14  trained\n",
            "modelGH2.sav  15  trained\n",
            "modelChar.sav  16  trained\n",
            "modelHAA.sav  17  trained\n",
            "modelGLYOX.sav  18  trained\n",
            "modelC3H6O.sav  19  trained\n",
            "modelC3H4O2.sav  20  trained\n",
            "modelHMFU.sav  21  trained\n",
            "modelLVG.sav  22  trained\n",
            "modelXYL.sav  23  trained\n",
            "modelpCOUMARYL.sav  24  trained\n",
            "modelPHENOL.sav  25  trained\n",
            "modelFE2MACR.sav  26  trained\n",
            "modelCH3CHO.sav  27  trained\n",
            "modelETOH.sav  28  trained\n",
            "modelCH3OH.sav  29  trained\n",
            "modelCO.sav  30  trained\n",
            "modelCO2.sav  31  trained\n",
            "modelCH4.sav  32  trained\n",
            "modelCH2O.sav  33  trained\n",
            "modelH2.sav  34  trained\n",
            "modelC2H4.sav  35  trained\n",
            "modelH2O.sav  36  trained\n"
          ]
        }
      ],
      "execution_count": 6,
      "metadata": {
        "collapsed": false,
        "outputHidden": false,
        "inputHidden": false
      }
    },
    {
      "cell_type": "code",
      "source": [],
      "outputs": [],
      "execution_count": null,
      "metadata": {
        "collapsed": false,
        "outputHidden": false,
        "inputHidden": false
      }
    }
  ],
  "metadata": {
    "kernel_info": {
      "name": "python3"
    },
    "language_info": {
      "name": "python",
      "version": "3.7.4",
      "mimetype": "text/x-python",
      "codemirror_mode": {
        "name": "ipython",
        "version": 3
      },
      "pygments_lexer": "ipython3",
      "nbconvert_exporter": "python",
      "file_extension": ".py"
    },
    "kernelspec": {
      "name": "python3",
      "language": "python",
      "display_name": "Python 3"
    },
    "nteract": {
      "version": "0.22.4"
    }
  },
  "nbformat": 4,
  "nbformat_minor": 0
}