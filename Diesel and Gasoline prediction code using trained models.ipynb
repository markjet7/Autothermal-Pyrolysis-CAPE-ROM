{
  "cells": [
    {
      "cell_type": "code",
      "source": [
        "# Import packages needed \n",
        "import win32com.client as win32\n",
        "\n",
        "\n",
        "Application = win32.gencache.EnsureDispatch('Apwn.Document')\n",
        "import numpy as np\n",
        "import pandas as pd \n",
        "\n",
        "Application.InitFromFile(r\"C:\\Users\\lumed\\Desktop\\Research\\Aspen Python\\ATP to Gasoline April 10_2020\\ATP to Gasoline April 10_2020.bkp\")\n",
        "\n",
        "Application.Visible = True\n",
        "Application.SuppressDialogs = 1\n",
        "# Application.Reinit()\n",
        "# Application.Run2()\n",
        "\n",
        "FeedStockSet = pd.read_excel(r\"C:\\Users\\lumed\\Desktop\\Research\\Feedstocks\\feedstock normalized.xlsx\")"
      ],
      "outputs": [],
      "execution_count": null,
      "metadata": {
        "collapsed": true,
        "jupyter": {
          "source_hidden": false,
          "outputs_hidden": false
        },
        "nteract": {
          "transient": {
            "deleting": false
          }
        }
      }
    },
    {
      "cell_type": "code",
      "source": [
        "# This code is a function that predicts the 42 products of the pyrolysis products based on the inoputs in aspen \n",
        "def pyrolysis(feedstock_comp):\n",
        "    import pandas as pd\n",
        "    import pickle\n",
        "    \n",
        "    \n",
        "# The next line imports the ranzi data to extract the products \n",
        "    products = ['CELL1','HCE1','LIGC1','LIGH1','LIGO1','CELLA','HCEA1','HCEA2','LIG','LIGCC','LIGOH','GCO2','GCO','GCOH2','GH2','Char','HAA','GLYOX','C3H6O','C3H4O2','HMFU','LVG', 'XYL','pCOUMARYL','PHENOL','FE2MACR','CH3CHO','ETOH','CH3OH','CO','CO2','CH4','CH2O','H2','C2H4','H2O']\n",
        "    # The next line creates an empty list, the products predicted are going to be stored in this list while we loop through each product model    \n",
        "    predictions =[]\n",
        "\n",
        "# The for loop will loop through the products models that was trained and saved earlier, predict and append each product to the prediction list \n",
        "    for name in products:\n",
        "        model = 'model' + name + \".sav\"\n",
        "        model2 = pickle.load(open(model,'rb'))\n",
        "        pred = model2.predict(feedstock_comp)\n",
        "        predictions.append(pred)\n",
        "    return (predictions)"
      ],
      "outputs": [],
      "execution_count": null,
      "metadata": {
        "collapsed": true,
        "jupyter": {
          "source_hidden": false,
          "outputs_hidden": false
        },
        "nteract": {
          "transient": {
            "deleting": false
          }
        }
      }
    },
    {
      "cell_type": "code",
      "source": [
        "# This code adds gasoline and diesel columns to the data set\n",
        "\n",
        "FeedStockSet['Diesel'] = np.zeros(len(FeedStockSet))\n",
        "FeedStockSet['Gasoline'] = np.zeros(len(FeedStockSet))\n",
        "# FeedStockSet.iat[0,6] = 2\n",
        "FeedStockSet.head()"
      ],
      "outputs": [],
      "execution_count": null,
      "metadata": {
        "collapsed": true,
        "jupyter": {
          "source_hidden": false,
          "outputs_hidden": false
        },
        "nteract": {
          "transient": {
            "deleting": false
          }
        }
      }
    },
    {
      "cell_type": "code",
      "source": [
        "# Create an empty list for diesel and gasoline yields \n",
        "Diesel_list = []\n",
        "Gasoline_list = []\n",
        "\n",
        "# This code will loop through all the feedstocks, predict the pyrolysis yields and update the diesel and gasoline yields for each feedstock \n",
        "\n",
        "for i in range(len(FeedStockSet)):\n",
        "    feedstock = FeedStockSet.iloc[i,1:6].values\n",
        "    for j in range(5):\n",
        "        Application.Tree.FindNode(\"\\Data\\Streams\\STOVER\\Input\\FLOW\\MIXED\").Elements.Item(j).Value = FeedStockSet.iloc[i,j+1]\n",
        "    Pyrolysis_yield = pyrolysis(feedstock)\n",
        "    print(\"Progress {:2.1%}\".format(i / 341), end=\"\\r\")\n",
        "#     print(i)\n",
        "    \n",
        "    for prod in range(len(Pyrolysis_yield)):\n",
        "        if prod <= 10:\n",
        "            Application.Tree.FindNode(\"\\Data\\Blocks\\PYROLYSI\\Data\\Blocks\\B1\\Input\\MOLE_YIELD\").Elements.Item(0,prod).Value = round(Pyrolysis_yield[prod],3)\n",
        "        else:\n",
        "            Application.Tree.FindNode(\"\\Data\\Blocks\\PYROLYSI\\Data\\Blocks\\B1\\Input\\MOLE_YIELD\").Elements.Item(0,prod).Value = round(Pyrolysis_yield[prod],7)\n",
        "    Application.Run2()\n",
        "    Gasoline = Application.Tree.FindNode(\"\\Data\\Streams\\MOGAS\\Output\\MASSFLMX\\$TOTAL\").Value\n",
        "    Diesel = Application.Tree.FindNode(\"\\Data\\Streams\\DIESEL\\Output\\MASSFLMX\\$TOTAL\").Value\n",
        "    \n",
        "    FeedStockSet.iat[i,6] = Gasoline \n",
        "    FeedStockSet.iat[i,7] = Diesel\n",
        "    \n",
        "    Diesel_list.append(Diesel)\n",
        "    Gasoline_list.append(Gasoline)\n",
        "    Application.Reinit()\n",
        "FeedStockSet['Diesel'] = Diesel_list\n",
        "FeedStockSet['Gasoline'] = Gasoline_list\n",
        "\n",
        "FeedStockSet.to_excel(r\"C:\\Users\\lumed\\Desktop\\Research\\Feedstocks\\feedstock normalized3.xlsx\" ,engine = 'xlsxwriter')"
      ],
      "outputs": [],
      "execution_count": null,
      "metadata": {
        "collapsed": true,
        "jupyter": {
          "source_hidden": false,
          "outputs_hidden": false
        },
        "nteract": {
          "transient": {
            "deleting": false
          }
        }
      }
    },
    {
      "cell_type": "code",
      "source": [
        "FeedStockSet.head()"
      ],
      "outputs": [],
      "execution_count": null,
      "metadata": {
        "collapsed": true,
        "jupyter": {
          "source_hidden": false,
          "outputs_hidden": false
        },
        "nteract": {
          "transient": {
            "deleting": false
          }
        }
      }
    }
  ],
  "metadata": {
    "kernel_info": {
      "name": "python3"
    },
    "language_info": {
      "name": "python3"
    },
    "kernelspec": {
      "argv": [
        "python",
        "-m",
        "ipykernel_launcher",
        "-f",
        "{connection_file}"
      ],
      "display_name": "Python 3",
      "language": "python",
      "name": "python3"
    },
    "nteract": {
      "version": "0.23.3"
    }
  },
  "nbformat": 4,
  "nbformat_minor": 0
}